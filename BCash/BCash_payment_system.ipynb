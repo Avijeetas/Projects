{
  "nbformat": 4,
  "nbformat_minor": 0,
  "metadata": {
    "kernelspec": {
      "display_name": "Python 3",
      "language": "python",
      "name": "python3"
    },
    "language_info": {
      "codemirror_mode": {
        "name": "ipython",
        "version": 3
      },
      "file_extension": ".py",
      "mimetype": "text/x-python",
      "name": "python",
      "nbconvert_exporter": "python",
      "pygments_lexer": "ipython3",
      "version": "3.8.5"
    },
    "colab": {
      "name": "BCash_payment_system.ipynb",
      "provenance": []
    }
  },
  "cells": [
    {
      "cell_type": "code",
      "metadata": {
        "id": "EtN1zyOl7qA5"
      },
      "source": [
        "Map={} "
      ],
      "execution_count": 1,
      "outputs": []
    },
    {
      "cell_type": "code",
      "metadata": {
        "id": "JGhEuLkU7qBN"
      },
      "source": [
        "# file handling "
      ],
      "execution_count": 2,
      "outputs": []
    },
    {
      "cell_type": "code",
      "metadata": {
        "id": "d_LOGfSc7qBQ"
      },
      "source": [
        "class BCash:\n",
        "    def __init__(self, mb, username, password,balance=0):\n",
        "        self.__password=password\n",
        "        self.username=username\n",
        "        self.__mb=mb\n",
        "        self.balance=balance    \n",
        "        \n",
        "    def asdict(self):\n",
        "        \n",
        "        return {\"username\" : self.username,\"object\":self}\n",
        "    \n",
        "    def getbalance(self): # balance inquiry \n",
        "        return self.balance\n",
        "    def setbalance(self,x): # recharge \n",
        "        self.balance+=x\n",
        "    def result(self):\n",
        "        print(\"Username : {}\\nMobile No: {}\\nBalance: {}\".format(self.username,self.__mb,self.balance)) # Result\n",
        "        \n",
        "    def getps(self):\n",
        "        return self.__password"
      ],
      "execution_count": 3,
      "outputs": []
    },
    {
      "cell_type": "code",
      "metadata": {
        "id": "2P1JDHuk7qBU"
      },
      "source": [
        "from getpass import getpass as gp"
      ],
      "execution_count": 4,
      "outputs": []
    },
    {
      "cell_type": "code",
      "metadata": {
        "id": "-67Mis8r7qBW"
      },
      "source": [
        "class user(BCash):\n",
        "    def __init__(self,mb,username, pwd,balance=0):\n",
        "        super().__init__(mb,username,pwd)\n",
        "    def recharge(self, x):\n",
        "        super().setbalance(x)\n",
        "        return \"operation successful\"\n",
        "    def getbalance(self):\n",
        "        return super().getbalance()\n",
        "        \n",
        "    def show(self):\n",
        "        super().result()\n",
        "    \n",
        "    \n",
        "            \n",
        "    def getps(self):\n",
        "        return super().getps()\n",
        "        "
      ],
      "execution_count": 5,
      "outputs": []
    },
    {
      "cell_type": "code",
      "metadata": {
        "id": "wdF2YYYk7qBY"
      },
      "source": [
        "def usermanu(x):\n",
        "    print(\"Hey , {}\".format(x[\"username\"]))\n",
        "    \n",
        "    print(\"Choose any option from the list\\n\")\n",
        "    print(\"1.Send Money\\n2.Balance Inquiry\\n3.Mobile Recharge\\n4.Logout\")\n",
        "    k=int(input(\"\\nEnter your choice: \"))\n",
        "    return k\n",
        "    \n",
        "    "
      ],
      "execution_count": 6,
      "outputs": []
    },
    {
      "cell_type": "code",
      "metadata": {
        "id": "oTUWngFW7qBb"
      },
      "source": [
        "def usercontrol(x):\n",
        "    \n",
        "    k=1\n",
        "    while k!=4:\n",
        "        ob=Map[x][\"object\"] # OBJECT of the user \n",
        "        k=usermanu(Map[x])\n",
        "        if k==1:\n",
        "            ok=1\n",
        "            other= input(\"Enter the username to send the money\\n\")\n",
        "            if other not in Map.keys():\n",
        "                print(\"Sorry no such users\\n\")\n",
        "                t= input(\"Enter the username to send the money\\n\")\n",
        "                if t not in Map.keys():\n",
        "                    print(\"Sorry no such users\\nReturning to the console\\n\")\n",
        "                    ok=0\n",
        "                    break\n",
        "            if ok==0:\n",
        "                k=usermanu(Map[x])\n",
        "\n",
        "            else:\n",
        "                pay=int(input(\"Enter the amount to pay: \"))\n",
        "\n",
        "                if ob.balance<pay:\n",
        "                    print(\"Unsufficient Balance\\n\")\n",
        "                else:\n",
        "                    ob.setbalance(-pay)\n",
        "                    adj= Map[other]['object']\n",
        "                    adj.setbalance(pay)\n",
        "                    print(\"Payment done!\")\n",
        "        elif k==2:\n",
        "            print(\"Your current balance is {}\\n\".format(ob.balance))\n",
        "        elif k==3:\n",
        "            inp=int(input(\"Enter the amount you want to recharge : \\n\"))\n",
        "            ob.recharge(inp)    \n",
        "            print(\"Recharge successful\\n\")\n",
        "            print(\"Your current balance is {}\\n\".format(ob.balance))                      "
      ],
      "execution_count": 7,
      "outputs": []
    },
    {
      "cell_type": "code",
      "metadata": {
        "id": "JgXQZzh77qBd"
      },
      "source": [
        "def menu():\n",
        "    print(\"=========================================\\n\\n   Welcome to the BCash payment system\\n\\n=========================================\")\n",
        "    print(\"Choose the option from the list\\n\")\n",
        "    print(\"1. Sign up\")\n",
        "    print(\"2. Sign in\")\n",
        "    print(\"3. Exit\")\n",
        "    typ= int(input(\"Enter your option : \"))\n",
        "    return typ\n",
        "typ=0    "
      ],
      "execution_count": 8,
      "outputs": []
    },
    {
      "cell_type": "code",
      "metadata": {
        "colab": {
          "base_uri": "https://localhost:8080/",
          "height": 35
        },
        "id": "3QQwFA6j7qBf",
        "outputId": "8762768d-d7da-4350-d5e9-16140ee9db1c"
      },
      "source": [
        "def passvali(x):\n",
        "    u,l,n=0,0,0\n",
        "'''\n",
        "    for i in x:\n",
        "        if i=='a'  \n",
        "            l=1\n",
        "        else if i=='A' \n",
        "            u=1\n",
        "        else if i=\n",
        "            n=1\n",
        "    return l==1 and u==1 and n==1 and len(x)>=6 \n",
        "        \n",
        "\n",
        "'''\n",
        "# Regular expression\n",
        "# Web scraping [ Beautisoup, selenium ] => regular expression \n",
        "# Data Scientist, data scientist, Data scientist [ 3 different jobs ] => Data Scientist \n",
        "\n",
        "    \n",
        "        "
      ],
      "execution_count": 9,
      "outputs": [
        {
          "output_type": "execute_result",
          "data": {
            "application/vnd.google.colaboratory.intrinsic+json": {
              "type": "string"
            },
            "text/plain": [
              "\"\\n    for i in x:\\n        if i=='a'  \\n            l=1\\n        else if i=='A' \\n            u=1\\n        else if i=\\n            n=1\\n    return l==1 and u==1 and n==1 and len(x)>=6 \\n        \\n\\n\""
            ]
          },
          "metadata": {
            "tags": []
          },
          "execution_count": 9
        }
      ]
    },
    {
      "cell_type": "code",
      "metadata": {
        "colab": {
          "base_uri": "https://localhost:8080/",
          "height": 1000
        },
        "id": "XXQQiF_f7qBm",
        "outputId": "420216c9-8e84-487f-819e-3a6ce15ad268"
      },
      "source": [
        "while typ!=3:\n",
        "    typ=menu()\n",
        "\n",
        "\n",
        "    if typ==1:\n",
        "        \n",
        "        ok=0\n",
        "        while ok!=1:\n",
        "            username=input(\"Enter username: \").strip()\n",
        "        \n",
        "            if username not in Map.keys():\n",
        "                ok=1\n",
        "            else:\n",
        "                print(\"Username already exists\")\n",
        "                \n",
        "                \n",
        "        mb=input(\"Enter mobile number: \").strip()\n",
        "        pwd=gp(\"Enter password: \").strip()\n",
        "#        pwd=gp(\"Enter password: \").strip()\n",
        " #       while passval(pwd)==0:\n",
        "            \n",
        "        \n",
        "                    \n",
        "        confirm= gp(\"Confirm password: \").strip()\n",
        "        \n",
        "        # S\\ome scope to extend the work . How?\n",
        "        # Us12ing password validation [ One uppercase, One lowercase, one number]\n",
        "        while(pwd!=confirm):\n",
        "            print(\"Password does not match\\nEnter the password again\\n\")\n",
        "            confirm=gp(\"Confirm password: \")\n",
        "        print(\"New Account is successfully created\\n\")\n",
        "        x=user(mb,username, pwd)\n",
        "        Map[username]=x.asdict()\n",
        "      #  usercontrol(username)\n",
        "            \n",
        "    elif typ==2: \n",
        "        ok=0\n",
        "        username=input(\"Enter username: \").strip()\n",
        "        if username not in Map.keys():\n",
        "            print(\"No such users\")\n",
        "            typ=menu()\n",
        "        else:\n",
        "\n",
        "            x=Map[username][\"object\"]\n",
        "            ps=x.getps()\n",
        "#           \n",
        "            for i in range(3):\n",
        "                pwd=gp(\"Enter password: \").strip()\n",
        "                \n",
        "                if ps==pwd:\n",
        "                    ok=1\n",
        "                    break\n",
        "                    \n",
        "        if ok==0:\n",
        "                print(\"Unsuccessful login\\nTaking back to the menu\")\n",
        "                typ=menu()\n",
        "        else:\n",
        "                print(\"Successful logged in\\n\")\n",
        "        usercontrol(username)\n",
        "                \n",
        "        \n",
        "        \n",
        "    "
      ],
      "execution_count": 15,
      "outputs": [
        {
          "output_type": "stream",
          "text": [
            "=========================================\n",
            "\n",
            "   Welcome to the BCash payment system\n",
            "\n",
            "=========================================\n",
            "Choose the option from the list\n",
            "\n",
            "1. Sign up\n",
            "2. Sign in\n",
            "3. Exit\n",
            "Enter your option : 2\n",
            "Enter username: Avi\n",
            "Enter password: ··········\n",
            "Successful logged in\n",
            "\n",
            "Hey , Avi\n",
            "Choose any option from the list\n",
            "\n",
            "1.Send Money\n",
            "2.Balance Inquiry\n",
            "3.Mobile Recharge\n",
            "4.Logout\n",
            "\n",
            "Enter your choice: 3\n",
            "Enter the amount you want to recharge : \n",
            "100\n",
            "Recharge successful\n",
            "\n",
            "Your current balance is 100\n",
            "\n",
            "Hey , Avi\n",
            "Choose any option from the list\n",
            "\n",
            "1.Send Money\n",
            "2.Balance Inquiry\n",
            "3.Mobile Recharge\n",
            "4.Logout\n",
            "\n",
            "Enter your choice: 2\n",
            "Your current balance is 100\n",
            "\n",
            "Hey , Avi\n",
            "Choose any option from the list\n",
            "\n",
            "1.Send Money\n",
            "2.Balance Inquiry\n",
            "3.Mobile Recharge\n",
            "4.Logout\n",
            "\n",
            "Enter your choice: 1\n",
            "Enter the username to send the money\n",
            "Avi1\n",
            "Enter the amount to pay: 20\n",
            "Payment done!\n",
            "Hey , Avi\n",
            "Choose any option from the list\n",
            "\n",
            "1.Send Money\n",
            "2.Balance Inquiry\n",
            "3.Mobile Recharge\n",
            "4.Logout\n",
            "\n",
            "Enter your choice: 2\n",
            "Your current balance is 80\n",
            "\n",
            "Hey , Avi\n",
            "Choose any option from the list\n",
            "\n",
            "1.Send Money\n",
            "2.Balance Inquiry\n",
            "3.Mobile Recharge\n",
            "4.Logout\n",
            "\n",
            "Enter your choice: 4\n",
            "=========================================\n",
            "\n",
            "   Welcome to the BCash payment system\n",
            "\n",
            "=========================================\n",
            "Choose the option from the list\n",
            "\n",
            "1. Sign up\n",
            "2. Sign in\n",
            "3. Exit\n",
            "Enter your option : 2\n",
            "Enter username: Avi1\n",
            "Enter password: ··········\n",
            "Successful logged in\n",
            "\n",
            "Hey , Avi1\n",
            "Choose any option from the list\n",
            "\n",
            "1.Send Money\n",
            "2.Balance Inquiry\n",
            "3.Mobile Recharge\n",
            "4.Logout\n",
            "\n",
            "Enter your choice: 2\n",
            "Your current balance is 20\n",
            "\n",
            "Hey , Avi1\n",
            "Choose any option from the list\n",
            "\n",
            "1.Send Money\n",
            "2.Balance Inquiry\n",
            "3.Mobile Recharge\n",
            "4.Logout\n",
            "\n",
            "Enter your choice: 4\n",
            "=========================================\n",
            "\n",
            "   Welcome to the BCash payment system\n",
            "\n",
            "=========================================\n",
            "Choose the option from the list\n",
            "\n",
            "1. Sign up\n",
            "2. Sign in\n",
            "3. Exit\n"
          ],
          "name": "stdout"
        },
        {
          "output_type": "error",
          "ename": "KeyboardInterrupt",
          "evalue": "ignored",
          "traceback": [
            "\u001b[0;31m---------------------------------------------------------------------------\u001b[0m",
            "\u001b[0;31mKeyboardInterrupt\u001b[0m                         Traceback (most recent call last)",
            "\u001b[0;32m/usr/local/lib/python3.6/dist-packages/ipykernel/kernelbase.py\u001b[0m in \u001b[0;36m_input_request\u001b[0;34m(self, prompt, ident, parent, password)\u001b[0m\n\u001b[1;32m    728\u001b[0m             \u001b[0;32mtry\u001b[0m\u001b[0;34m:\u001b[0m\u001b[0;34m\u001b[0m\u001b[0;34m\u001b[0m\u001b[0m\n\u001b[0;32m--> 729\u001b[0;31m                 \u001b[0mident\u001b[0m\u001b[0;34m,\u001b[0m \u001b[0mreply\u001b[0m \u001b[0;34m=\u001b[0m \u001b[0mself\u001b[0m\u001b[0;34m.\u001b[0m\u001b[0msession\u001b[0m\u001b[0;34m.\u001b[0m\u001b[0mrecv\u001b[0m\u001b[0;34m(\u001b[0m\u001b[0mself\u001b[0m\u001b[0;34m.\u001b[0m\u001b[0mstdin_socket\u001b[0m\u001b[0;34m,\u001b[0m \u001b[0;36m0\u001b[0m\u001b[0;34m)\u001b[0m\u001b[0;34m\u001b[0m\u001b[0;34m\u001b[0m\u001b[0m\n\u001b[0m\u001b[1;32m    730\u001b[0m             \u001b[0;32mexcept\u001b[0m \u001b[0mException\u001b[0m\u001b[0;34m:\u001b[0m\u001b[0;34m\u001b[0m\u001b[0;34m\u001b[0m\u001b[0m\n",
            "\u001b[0;32m/usr/local/lib/python3.6/dist-packages/jupyter_client/session.py\u001b[0m in \u001b[0;36mrecv\u001b[0;34m(self, socket, mode, content, copy)\u001b[0m\n\u001b[1;32m    802\u001b[0m         \u001b[0;32mtry\u001b[0m\u001b[0;34m:\u001b[0m\u001b[0;34m\u001b[0m\u001b[0;34m\u001b[0m\u001b[0m\n\u001b[0;32m--> 803\u001b[0;31m             \u001b[0mmsg_list\u001b[0m \u001b[0;34m=\u001b[0m \u001b[0msocket\u001b[0m\u001b[0;34m.\u001b[0m\u001b[0mrecv_multipart\u001b[0m\u001b[0;34m(\u001b[0m\u001b[0mmode\u001b[0m\u001b[0;34m,\u001b[0m \u001b[0mcopy\u001b[0m\u001b[0;34m=\u001b[0m\u001b[0mcopy\u001b[0m\u001b[0;34m)\u001b[0m\u001b[0;34m\u001b[0m\u001b[0;34m\u001b[0m\u001b[0m\n\u001b[0m\u001b[1;32m    804\u001b[0m         \u001b[0;32mexcept\u001b[0m \u001b[0mzmq\u001b[0m\u001b[0;34m.\u001b[0m\u001b[0mZMQError\u001b[0m \u001b[0;32mas\u001b[0m \u001b[0me\u001b[0m\u001b[0;34m:\u001b[0m\u001b[0;34m\u001b[0m\u001b[0;34m\u001b[0m\u001b[0m\n",
            "\u001b[0;32m/usr/local/lib/python3.6/dist-packages/zmq/sugar/socket.py\u001b[0m in \u001b[0;36mrecv_multipart\u001b[0;34m(self, flags, copy, track)\u001b[0m\n\u001b[1;32m    565\u001b[0m         \"\"\"\n\u001b[0;32m--> 566\u001b[0;31m         \u001b[0mparts\u001b[0m \u001b[0;34m=\u001b[0m \u001b[0;34m[\u001b[0m\u001b[0mself\u001b[0m\u001b[0;34m.\u001b[0m\u001b[0mrecv\u001b[0m\u001b[0;34m(\u001b[0m\u001b[0mflags\u001b[0m\u001b[0;34m,\u001b[0m \u001b[0mcopy\u001b[0m\u001b[0;34m=\u001b[0m\u001b[0mcopy\u001b[0m\u001b[0;34m,\u001b[0m \u001b[0mtrack\u001b[0m\u001b[0;34m=\u001b[0m\u001b[0mtrack\u001b[0m\u001b[0;34m)\u001b[0m\u001b[0;34m]\u001b[0m\u001b[0;34m\u001b[0m\u001b[0;34m\u001b[0m\u001b[0m\n\u001b[0m\u001b[1;32m    567\u001b[0m         \u001b[0;31m# have first part already, only loop while more to receive\u001b[0m\u001b[0;34m\u001b[0m\u001b[0;34m\u001b[0m\u001b[0;34m\u001b[0m\u001b[0m\n",
            "\u001b[0;32mzmq/backend/cython/socket.pyx\u001b[0m in \u001b[0;36mzmq.backend.cython.socket.Socket.recv\u001b[0;34m()\u001b[0m\n",
            "\u001b[0;32mzmq/backend/cython/socket.pyx\u001b[0m in \u001b[0;36mzmq.backend.cython.socket.Socket.recv\u001b[0;34m()\u001b[0m\n",
            "\u001b[0;32mzmq/backend/cython/socket.pyx\u001b[0m in \u001b[0;36mzmq.backend.cython.socket._recv_copy\u001b[0;34m()\u001b[0m\n",
            "\u001b[0;32m/usr/local/lib/python3.6/dist-packages/zmq/backend/cython/checkrc.pxd\u001b[0m in \u001b[0;36mzmq.backend.cython.checkrc._check_rc\u001b[0;34m()\u001b[0m\n",
            "\u001b[0;31mKeyboardInterrupt\u001b[0m: ",
            "\nDuring handling of the above exception, another exception occurred:\n",
            "\u001b[0;31mKeyboardInterrupt\u001b[0m                         Traceback (most recent call last)",
            "\u001b[0;32m<ipython-input-15-cbd2b8580e72>\u001b[0m in \u001b[0;36m<module>\u001b[0;34m()\u001b[0m\n\u001b[1;32m      1\u001b[0m \u001b[0;32mwhile\u001b[0m \u001b[0mtyp\u001b[0m\u001b[0;34m!=\u001b[0m\u001b[0;36m3\u001b[0m\u001b[0;34m:\u001b[0m\u001b[0;34m\u001b[0m\u001b[0;34m\u001b[0m\u001b[0m\n\u001b[0;32m----> 2\u001b[0;31m     \u001b[0mtyp\u001b[0m\u001b[0;34m=\u001b[0m\u001b[0mmenu\u001b[0m\u001b[0;34m(\u001b[0m\u001b[0;34m)\u001b[0m\u001b[0;34m\u001b[0m\u001b[0;34m\u001b[0m\u001b[0m\n\u001b[0m\u001b[1;32m      3\u001b[0m \u001b[0;34m\u001b[0m\u001b[0m\n\u001b[1;32m      4\u001b[0m \u001b[0;34m\u001b[0m\u001b[0m\n\u001b[1;32m      5\u001b[0m     \u001b[0;32mif\u001b[0m \u001b[0mtyp\u001b[0m\u001b[0;34m==\u001b[0m\u001b[0;36m1\u001b[0m\u001b[0;34m:\u001b[0m\u001b[0;34m\u001b[0m\u001b[0;34m\u001b[0m\u001b[0m\n",
            "\u001b[0;32m<ipython-input-8-c6d3bcd95e71>\u001b[0m in \u001b[0;36mmenu\u001b[0;34m()\u001b[0m\n\u001b[1;32m      5\u001b[0m     \u001b[0mprint\u001b[0m\u001b[0;34m(\u001b[0m\u001b[0;34m\"2. Sign in\"\u001b[0m\u001b[0;34m)\u001b[0m\u001b[0;34m\u001b[0m\u001b[0;34m\u001b[0m\u001b[0m\n\u001b[1;32m      6\u001b[0m     \u001b[0mprint\u001b[0m\u001b[0;34m(\u001b[0m\u001b[0;34m\"3. Exit\"\u001b[0m\u001b[0;34m)\u001b[0m\u001b[0;34m\u001b[0m\u001b[0;34m\u001b[0m\u001b[0m\n\u001b[0;32m----> 7\u001b[0;31m     \u001b[0mtyp\u001b[0m\u001b[0;34m=\u001b[0m \u001b[0mint\u001b[0m\u001b[0;34m(\u001b[0m\u001b[0minput\u001b[0m\u001b[0;34m(\u001b[0m\u001b[0;34m\"Enter your option : \"\u001b[0m\u001b[0;34m)\u001b[0m\u001b[0;34m)\u001b[0m\u001b[0;34m\u001b[0m\u001b[0;34m\u001b[0m\u001b[0m\n\u001b[0m\u001b[1;32m      8\u001b[0m     \u001b[0;32mreturn\u001b[0m \u001b[0mtyp\u001b[0m\u001b[0;34m\u001b[0m\u001b[0;34m\u001b[0m\u001b[0m\n\u001b[1;32m      9\u001b[0m \u001b[0mtyp\u001b[0m\u001b[0;34m=\u001b[0m\u001b[0;36m0\u001b[0m\u001b[0;34m\u001b[0m\u001b[0;34m\u001b[0m\u001b[0m\n",
            "\u001b[0;32m/usr/local/lib/python3.6/dist-packages/ipykernel/kernelbase.py\u001b[0m in \u001b[0;36mraw_input\u001b[0;34m(self, prompt)\u001b[0m\n\u001b[1;32m    702\u001b[0m             \u001b[0mself\u001b[0m\u001b[0;34m.\u001b[0m\u001b[0m_parent_ident\u001b[0m\u001b[0;34m,\u001b[0m\u001b[0;34m\u001b[0m\u001b[0;34m\u001b[0m\u001b[0m\n\u001b[1;32m    703\u001b[0m             \u001b[0mself\u001b[0m\u001b[0;34m.\u001b[0m\u001b[0m_parent_header\u001b[0m\u001b[0;34m,\u001b[0m\u001b[0;34m\u001b[0m\u001b[0;34m\u001b[0m\u001b[0m\n\u001b[0;32m--> 704\u001b[0;31m             \u001b[0mpassword\u001b[0m\u001b[0;34m=\u001b[0m\u001b[0;32mFalse\u001b[0m\u001b[0;34m,\u001b[0m\u001b[0;34m\u001b[0m\u001b[0;34m\u001b[0m\u001b[0m\n\u001b[0m\u001b[1;32m    705\u001b[0m         )\n\u001b[1;32m    706\u001b[0m \u001b[0;34m\u001b[0m\u001b[0m\n",
            "\u001b[0;32m/usr/local/lib/python3.6/dist-packages/ipykernel/kernelbase.py\u001b[0m in \u001b[0;36m_input_request\u001b[0;34m(self, prompt, ident, parent, password)\u001b[0m\n\u001b[1;32m    732\u001b[0m             \u001b[0;32mexcept\u001b[0m \u001b[0mKeyboardInterrupt\u001b[0m\u001b[0;34m:\u001b[0m\u001b[0;34m\u001b[0m\u001b[0;34m\u001b[0m\u001b[0m\n\u001b[1;32m    733\u001b[0m                 \u001b[0;31m# re-raise KeyboardInterrupt, to truncate traceback\u001b[0m\u001b[0;34m\u001b[0m\u001b[0;34m\u001b[0m\u001b[0;34m\u001b[0m\u001b[0m\n\u001b[0;32m--> 734\u001b[0;31m                 \u001b[0;32mraise\u001b[0m \u001b[0mKeyboardInterrupt\u001b[0m\u001b[0;34m\u001b[0m\u001b[0;34m\u001b[0m\u001b[0m\n\u001b[0m\u001b[1;32m    735\u001b[0m             \u001b[0;32melse\u001b[0m\u001b[0;34m:\u001b[0m\u001b[0;34m\u001b[0m\u001b[0;34m\u001b[0m\u001b[0m\n\u001b[1;32m    736\u001b[0m                 \u001b[0;32mbreak\u001b[0m\u001b[0;34m\u001b[0m\u001b[0;34m\u001b[0m\u001b[0m\n",
            "\u001b[0;31mKeyboardInterrupt\u001b[0m: "
          ]
        }
      ]
    },
    {
      "cell_type": "code",
      "metadata": {
        "id": "-dzrWu3f7qBp"
      },
      "source": [
        "1"
      ],
      "execution_count": null,
      "outputs": []
    },
    {
      "cell_type": "code",
      "metadata": {
        "id": "Wg7wbDFe7qBt"
      },
      "source": [
        "Map"
      ],
      "execution_count": null,
      "outputs": []
    },
    {
      "cell_type": "code",
      "metadata": {
        "id": "j_uI9mXV7qBu"
      },
      "source": [
        "Avi3"
      ],
      "execution_count": null,
      "outputs": []
    }
  ]
}