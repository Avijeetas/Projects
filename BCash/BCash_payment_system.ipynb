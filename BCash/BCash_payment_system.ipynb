{
  "nbformat": 4,
  "nbformat_minor": 0,
  "metadata": {
    "kernelspec": {
      "display_name": "Python 3",
      "language": "python",
      "name": "python3"
    },
    "language_info": {
      "codemirror_mode": {
        "name": "ipython",
        "version": 3
      },
      "file_extension": ".py",
      "mimetype": "text/x-python",
      "name": "python",
      "nbconvert_exporter": "python",
      "pygments_lexer": "ipython3",
      "version": "3.8.5"
    },
    "colab": {
      "name": "payment_system.ipynb",
      "provenance": []
    }
  },
  "cells": [
    {
      "cell_type": "code",
      "metadata": {
        "id": "EtN1zyOl7qA5"
      },
      "source": [
        "Map={} "
      ],
      "execution_count": null,
      "outputs": []
    },
    {
      "cell_type": "code",
      "metadata": {
        "id": "JGhEuLkU7qBN"
      },
      "execution_count": null,
      "outputs": []
    },
    {
      "cell_type": "code",
      "metadata": {
        "id": "d_LOGfSc7qBQ"
      },
      "source": [
        "class BCash:\n",
        "    def __init__(self, mb, username, password,balance=0):\n",
        "        self.__password=password\n",
        "        self.username=username\n",
        "        self.__mb=mb\n",
        "        self.balance=balance    \n",
        "        \n",
        "    def asdict(self):\n",
        "        \n",
        "        return {\"username\" : self.username,\"object\":self}\n",
        "    \n",
        "    def getbalance(self): # balance inquiry \n",
        "        return self.balance\n",
        "    def setbalance(self,x): # recharge \n",
        "        self.balance+=x\n",
        "    def result(self):\n",
        "        print(\"Username : {}\\nMobile No: {}\\nBalance: {}\".format(self.username,self.__mb,self.balance)) # Result\n",
        "        \n",
        "    def getps(self):\n",
        "        return self.__password"
      ],
      "execution_count": null,
      "outputs": []
    },
    {
      "cell_type": "code",
      "metadata": {
        "id": "2P1JDHuk7qBU"
      },
      "source": [
        "from getpass import getpass as gp"
      ],
      "execution_count": null,
      "outputs": []
    },
    {
      "cell_type": "code",
      "metadata": {
        "id": "-67Mis8r7qBW"
      },
      "source": [
        "class user(BCash):\n",
        "    def __init__(self,mb,username, pwd,balance=0):\n",
        "        super().__init__(mb,username,pwd)\n",
        "    def recharge(self, x):\n",
        "        super().setbalance(x)\n",
        "        return \"operation successful\"\n",
        "    def getbalance(self):\n",
        "        return super().getbalance()\n",
        "        \n",
        "    def show(self):\n",
        "        super().result()\n",
        "    \n",
        "    \n",
        "            \n",
        "    def getps(self):\n",
        "        return super().getps()\n",
        "        "
      ],
      "execution_count": null,
      "outputs": []
    },
    {
      "cell_type": "code",
      "metadata": {
        "id": "wdF2YYYk7qBY"
      },
      "source": [
        "def usermanu(x):\n",
        "    print(\"Hey , {}\".format(x[\"username\"]))\n",
        "    \n",
        "    print(\"Choose any option from the list\\n\")\n",
        "    print(\"1.Send Money\\n2.Balance Inquiry\\n3.Mobile Recharge\\n4.Logout\")\n",
        "    k=int(input(\"\\nEnter your choice: \"))\n",
        "    return k\n",
        "    \n",
        "    "
      ],
      "execution_count": null,
      "outputs": []
    },
    {
      "cell_type": "code",
      "metadata": {
        "id": "oTUWngFW7qBb"
      },
      "source": [
        "def usercontrol(x):\n",
        "    \n",
        "    k=1\n",
        "    while k!=4:\n",
        "        ob=Map[x][\"object\"] # OBJECT of the user \n",
        "        k=usermanu(Map[x])\n",
        "        if k==1:\n",
        "            ok=1\n",
        "            other= input(\"Enter the username to send the money\\n\")\n",
        "            if other not in Map.keys():\n",
        "                print(\"Sorry no such users\\n\")\n",
        "                t= input(\"Enter the username to send the money\\n\")\n",
        "                if t not in Map.keys():\n",
        "                    print(\"Sorry no such users\\nReturning to the console\\n\")\n",
        "                    ok=0\n",
        "                    break\n",
        "            if ok==0:\n",
        "                k=usermanu(Map[x])\n",
        "\n",
        "            else:\n",
        "                pay=int(input(\"Enter the amount to pay: \"))\n",
        "\n",
        "                if ob.balance<pay:\n",
        "                    print(\"Unsufficient Balance\\n\")\n",
        "                else:\n",
        "                    ob.setbalance(-pay)\n",
        "                    adj= Map[other]['object']\n",
        "                    adj.setbalance(pay)\n",
        "                    print(\"Payment done!\")\n",
        "        elif k==2:\n",
        "            print(\"Your current balance is {}\\n\".format(ob.balance))\n",
        "        elif k==3:\n",
        "            inp=int(input(\"Enter the amount you want to recharge : \\n\"))\n",
        "            ob.recharge(inp)    \n",
        "            print(\"Recharge successful\\n\")\n",
        "            print(\"Your current balance is {}\\n\".format(ob.balance))                      "
      ],
      "execution_count": null,
      "outputs": []
    },
    {
      "cell_type": "code",
      "metadata": {
        "id": "JgXQZzh77qBd"
      },
      "source": [
        "def menu():\n",
        "    print(\"=========================================\\n\\n   Welcome to the BCash payment system\\n\\n=========================================\")\n",
        "    print(\"Choose the option from the list\\n\")\n",
        "    print(\"1. Sign up\")\n",
        "    print(\"2. Sign in\")\n",
        "    print(\"3. Exit\")\n",
        "    typ= int(input(\"Enter your option : \"))\n",
        "    return typ\n",
        "typ=0    "
      ],
      "execution_count": null,
      "outputs": []
    },
    {
      "cell_type": "code",
      "metadata": {
        "id": "3QQwFA6j7qBf",
        "outputId": "f8d12aa3-53f2-42c2-a8b9-089cebdb062d"
      },
      "source": [
        "def passvali(x):\n",
        "    u,l,n=0,0,0\n",
        "'''\n",
        "    for i in x:\n",
        "        if i=='a'  \n",
        "            l=1\n",
        "        else if i=='A' \n",
        "            u=1\n",
        "        else if i=\n",
        "            n=1\n",
        "    return l==1 and u==1 and n==1 and len(x)>=6 \n",
        "        \n",
        "\n",
        "'''\n",
        "# Regular expression\n",
        "# Web scraping [ Beautisoup, selenium ] => regular expression \n",
        "# Data Scientist, data scientist, Data scientist [ 3 different jobs ] => Data Scientist \n",
        "\n",
        "    \n",
        "        "
      ],
      "execution_count": null,
      "outputs": [
        {
          "output_type": "execute_result",
          "data": {
            "text/plain": [
              "\"\\n    for i in x:\\n        if i=='a'  \\n            l=1\\n        else if i=='A' \\n            u=1\\n        else if i=\\n            n=1\\n    return l==1 and u==1 and n==1 and len(x)>=6 \\n        \\n\\n\""
            ]
          },
          "metadata": {
            "tags": []
          },
          "execution_count": 8
        }
      ]
    },
    {
      "cell_type": "code",
      "metadata": {
        "id": "XXQQiF_f7qBm",
        "outputId": "e1f47da6-132e-4ed0-d5ae-59576d0e925d"
      },
      "source": [
        "while typ!=3:\n",
        "    typ=menu()\n",
        "\n",
        "    if typ==1:\n",
        "        \n",
        "        ok=0\n",
        "        while ok!=1:\n",
        "            username=input(\"Enter username: \").strip()\n",
        "        \n",
        "            if username not in Map.keys():\n",
        "                ok=1\n",
        "            else:\n",
        "                print(\"Username already exists\")\n",
        "                \n",
        "                \n",
        "        mb=input(\"Enter mobile number: \").strip()\n",
        "        pwd=gp(\"Enter password: \").strip()\n",
        "#        pwd=gp(\"Enter password: \").strip()\n",
        " #       while passval(pwd)==0:\n",
        "            \n",
        "        \n",
        "                    \n",
        "        confirm= gp(\"Confirm password: \").strip()\n",
        "        \n",
        "        # Some scope to extend the work . How?\n",
        "        # Using password validation [ One uppercase, One lowercase, one number]\n",
        "        while(pwd!=confirm):\n",
        "            print(\"Password does not match\\nEnter the password again\\n\")\n",
        "            confir=gp(\"Enter password: \")\n",
        "        print(\"New Account is successfully created\\n\")\n",
        "        x=user(mb,username, pwd)\n",
        "        Map[username]=x.asdict()\n",
        "      #  usercontrol(username)\n",
        "            \n",
        "    elif typ==2: \n",
        "        ok=0\n",
        "        username=input(\"Enter username: \").strip()\n",
        "        if username not in Map.keys():\n",
        "            print(\"No such users\")\n",
        "            typ=menu()\n",
        "        else:\n",
        "\n",
        "            x=Map[username][\"object\"]\n",
        "            ps=x.getps()\n",
        "#           \n",
        "            for i in range(3):\n",
        "                pwd=gp(\"Enter password: \").strip()\n",
        "                \n",
        "                if ps==pwd:\n",
        "                    ok=1\n",
        "                    break\n",
        "                    \n",
        "        if ok==0:\n",
        "                print(\"Unsuccessful login\\nTaking back to the menu\")\n",
        "                typ=menu()\n",
        "        else:\n",
        "                print(\"Successful logged in\\n\")\n",
        "        usercontrol(username)\n",
        "                \n",
        "        \n",
        "        \n",
        "    "
      ],
      "execution_count": null,
      "outputs": [
        {
          "output_type": "stream",
          "text": [
            "=========================================\n",
            "\n",
            "   Welcome to the BCash payment system\n",
            "\n",
            "=========================================\n",
            "Choose the option from the list\n",
            "\n",
            "1. Sign up\n",
            "2. Sign in\n",
            "3. Exit\n"
          ],
          "name": "stdout"
        },
        {
          "output_type": "stream",
          "text": [
            "Enter your option :  1\n",
            "Enter username:  Avi\n",
            "Enter mobile number:  123\n",
            "Enter password:  ···\n",
            "Confirm password:  ···\n"
          ],
          "name": "stdin"
        },
        {
          "output_type": "stream",
          "text": [
            "New Account is successfully created\n",
            "\n",
            "=========================================\n",
            "\n",
            "   Welcome to the BCash payment system\n",
            "\n",
            "=========================================\n",
            "Choose the option from the list\n",
            "\n",
            "1. Sign up\n",
            "2. Sign in\n",
            "3. Exit\n"
          ],
          "name": "stdout"
        },
        {
          "output_type": "stream",
          "text": [
            "Enter your option :  2\n",
            "Enter username:  Avi\n",
            "Enter password:  ···\n"
          ],
          "name": "stdin"
        },
        {
          "output_type": "stream",
          "text": [
            "Successful logged in\n",
            "\n",
            "Hey , Avi\n",
            "Choose any option from the list\n",
            "\n",
            "1.Send Money\n",
            "2.Balance Inquiry\n",
            "3.Mobile Recharge\n",
            "4.Logout\n"
          ],
          "name": "stdout"
        },
        {
          "output_type": "stream",
          "text": [
            "\n",
            "Enter your choice:  2\n"
          ],
          "name": "stdin"
        },
        {
          "output_type": "stream",
          "text": [
            "Your current balance is 0\n",
            "\n",
            "Hey , Avi\n",
            "Choose any option from the list\n",
            "\n",
            "1.Send Money\n",
            "2.Balance Inquiry\n",
            "3.Mobile Recharge\n",
            "4.Logout\n"
          ],
          "name": "stdout"
        },
        {
          "output_type": "stream",
          "text": [
            "\n",
            "Enter your choice:  3\n",
            "Enter the amount you want to recharge : \n",
            " 200\n"
          ],
          "name": "stdin"
        },
        {
          "output_type": "stream",
          "text": [
            "Recharge successful\n",
            "\n",
            "Your current balance is 200\n",
            "\n",
            "Hey , Avi\n",
            "Choose any option from the list\n",
            "\n",
            "1.Send Money\n",
            "2.Balance Inquiry\n",
            "3.Mobile Recharge\n",
            "4.Logout\n"
          ],
          "name": "stdout"
        },
        {
          "output_type": "stream",
          "text": [
            "\n",
            "Enter your choice:  4\n"
          ],
          "name": "stdin"
        },
        {
          "output_type": "stream",
          "text": [
            "=========================================\n",
            "\n",
            "   Welcome to the BCash payment system\n",
            "\n",
            "=========================================\n",
            "Choose the option from the list\n",
            "\n",
            "1. Sign up\n",
            "2. Sign in\n",
            "3. Exit\n"
          ],
          "name": "stdout"
        },
        {
          "output_type": "stream",
          "text": [
            "Enter your option :  2\n",
            "Enter username:  Avi\n",
            "Enter password:  ···\n"
          ],
          "name": "stdin"
        },
        {
          "output_type": "stream",
          "text": [
            "Successful logged in\n",
            "\n",
            "Hey , Avi\n",
            "Choose any option from the list\n",
            "\n",
            "1.Send Money\n",
            "2.Balance Inquiry\n",
            "3.Mobile Recharge\n",
            "4.Logout\n"
          ],
          "name": "stdout"
        },
        {
          "output_type": "stream",
          "text": [
            "\n",
            "Enter your choice:  3\n",
            "Enter the amount you want to recharge : \n",
            " 200\n"
          ],
          "name": "stdin"
        },
        {
          "output_type": "stream",
          "text": [
            "Recharge successful\n",
            "\n",
            "Your current balance is 400\n",
            "\n",
            "Hey , Avi\n",
            "Choose any option from the list\n",
            "\n",
            "1.Send Money\n",
            "2.Balance Inquiry\n",
            "3.Mobile Recharge\n",
            "4.Logout\n"
          ],
          "name": "stdout"
        }
      ]
    },
    {
      "cell_type": "code",
      "metadata": {
        "id": "-dzrWu3f7qBp"
      },
      "source": [
        ""
      ],
      "execution_count": null,
      "outputs": []
    },
    {
      "cell_type": "code",
      "metadata": {
        "id": "Wg7wbDFe7qBt"
      },
      "source": [
        "Map"
      ],
      "execution_count": null,
      "outputs": []
    },
    {
      "cell_type": "code",
      "metadata": {
        "id": "j_uI9mXV7qBu"
      },
      "source": [
        "Avi3"
      ],
      "execution_count": null,
      "outputs": []
    }
  ]
}
